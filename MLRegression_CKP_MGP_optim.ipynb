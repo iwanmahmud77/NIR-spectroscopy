{
 "cells": [
  {
   "cell_type": "code",
   "execution_count": null,
   "metadata": {},
   "outputs": [],
   "source": [
    "#Import scikit-learn dataset library\n",
    "from sklearn import datasets\n",
    "# Import train_test_split function\n",
    "from sklearn.model_selection import train_test_split\n",
    "#Import scikit-learn metrics module for accuracy calculation\n",
    "from sklearn import metrics\n",
    "from sklearn.metrics import plot_confusion_matrix, mean_absolute_error, mean_squared_error, r2_score\n",
    "import matplotlib.pyplot as plt \n",
    "import pandas as pd\n",
    "import numpy as np\n",
    "import tensorflow as tf\n",
    "import seaborn as sns\n",
    "from math import sqrt\n",
    "from sklearn.model_selection import RandomizedSearchCV\n",
    "import warnings\n",
    "warnings.filterwarnings(\"ignore\")\n",
    " \n",
    "from datetime import datetime\n",
    "start_time = datetime.now()"
   ]
  },
  {
   "cell_type": "code",
   "execution_count": null,
   "metadata": {},
   "outputs": [],
   "source": [
    "# df= pd.read_excel('F://UCSI_research\\PG_Matters\\Chan Kok Pin\\post-viva\\Dataset\\Regression_data\\Grain_online\\grain_moisture.xlsx')\n",
    "df = pd.read_excel('F://UCSI_research\\PG_Matters\\Chan Kok Pin\\post-viva\\Dataset\\Regression_data\\Grain_online\\grain_moisture_snv.xlsx')\n",
    " \n",
    "# from pyspectra.transformers.spectral_correction import msc, detrend ,sav_gol,snv\n",
    "# MSC= msc()\n",
    "# MSC.fit(df_raw)\n",
    "# df=MSC.transform(df_raw)\n",
    "    \n",
    "    \n",
    "    \n",
    "X = df.iloc[: , 1:]\n",
    "Y = df.iloc[:, 0]\n",
    "\n",
    "\n",
    "# print(len(Y))\n",
    "# print(len(X))\n",
    "print(X.shape)\n",
    "print(Y.shape)"
   ]
  },
  {
   "cell_type": "code",
   "execution_count": null,
   "metadata": {},
   "outputs": [],
   "source": [
    "#  #add print spectrum...\n",
    "# import seaborn as sns\n",
    "# sns.set_theme()\n",
    "\n",
    "# X1 = df.values[:, 1:].astype('float32')  \n",
    "# y_toc = df.values[:,0]    \n",
    "# wl = np.linspace(1104,2496, num=X1.shape[1], endpoint=True)   #wavelength range\n",
    "# plt.plot(wl,X1.T)\n",
    "# plt.title('Moisture of Grain Protein (MGP)', fontsize = 12)\n",
    "# plt.xlabel(r'Wavelength(nm)', fontsize=12)\n",
    "# plt.ylabel('Absorbance(au)', fontsize=12)\n",
    "# plt.savefig('MGP tablet.png', dpi=300)\n",
    "# plt.show()"
   ]
  },
  {
   "cell_type": "code",
   "execution_count": null,
   "metadata": {},
   "outputs": [],
   "source": [
    "df.head()"
   ]
  },
  {
   "cell_type": "code",
   "execution_count": null,
   "metadata": {},
   "outputs": [],
   "source": [
    "sns.boxplot(x=df[\"Y\"])\n",
    "plt.title('Moisture of Grain Protein (MGP)', fontsize = 12)\n",
    "plt.xlabel('Moisture content (%)')"
   ]
  },
  {
   "cell_type": "code",
   "execution_count": null,
   "metadata": {},
   "outputs": [],
   "source": [
    "#train set,test set\n",
    "X_train, X_test, Y_train, Y_test = train_test_split(X, Y, test_size=0.25, random_state=0)  "
   ]
  },
  {
   "cell_type": "code",
   "execution_count": null,
   "metadata": {},
   "outputs": [],
   "source": [
    "print(X_train.shape)\n",
    "print(Y_train.shape)\n",
    "print(X_test.shape)\n",
    "print(Y_test.shape)"
   ]
  },
  {
   "cell_type": "code",
   "execution_count": null,
   "metadata": {},
   "outputs": [],
   "source": [
    "# Fitting Decision Tree Regression to the dataset\n",
    "from sklearn.tree import DecisionTreeRegressor\n",
    "from sklearn.ensemble import RandomForestRegressor\n",
    "import lightgbm as lgb\n",
    "\n",
    "DT = DecisionTreeRegressor()\n",
    "RF = RandomForestRegressor()\n",
    "LGB=lgb.LGBMRegressor(verbose=0)"
   ]
  },
  {
   "cell_type": "code",
   "execution_count": null,
   "metadata": {},
   "outputs": [],
   "source": [
    "# #tuning   hyperparameters\n",
    "paramsDT={\"splitter\":[\"best\",\"random\"],\n",
    "            \"max_depth\" : [1,3,5,7,9,11,12],\n",
    "           \"min_samples_leaf\":[1,2,3,4,5,6,7,8,9,10],\n",
    "           \"min_weight_fraction_leaf\":[0.1,0.2,0.3,0.4,0.5,0.6,0.7,0.8,0.9],\n",
    "           \"max_features\":[\"auto\",\"log2\",\"sqrt\",None],\n",
    "           \"max_leaf_nodes\":[None,10,20,30,40,50,60,70,80,90] }\n",
    "\n",
    "# Number of trees in random forest\n",
    "n_estimators = [int(x) for x in np.linspace(start = 100, stop = 800, num = 8)]\n",
    "# Number of features to consider at every split\n",
    "max_features = ['auto', 'sqrt']\n",
    "# Maximum number of levels in tree\n",
    "max_depth = [int(x) for x in np.linspace(10, 110, num = 5)]\n",
    "max_depth.append(None)\n",
    "# Minimum number of samples required to split a node\n",
    "min_samples_split = [2, 5, 10]\n",
    "# Minimum number of samples required at each leaf node\n",
    "min_samples_leaf = [1, 2, 4]\n",
    "# Method of selecting samples for training each tree\n",
    "bootstrap = [True, False]# Create the random grid\n",
    "paramsRF = {'n_estimators': n_estimators,\n",
    "               'max_features': max_features,\n",
    "               'max_depth': max_depth,\n",
    "               'min_samples_split': min_samples_split,\n",
    "               'min_samples_leaf': min_samples_leaf,\n",
    "               'bootstrap': bootstrap}\n",
    "\n",
    "\n",
    "paramsLGB={'n_estimators':[100,200,300,400,500], 'learning_rate':[0.1,0.25,0.5,0.75, 1],'reg_alpha':[0,0.01,0.05,0.1]}\n"
   ]
  },
  {
   "cell_type": "markdown",
   "metadata": {},
   "source": [
    "# TUNING DT"
   ]
  },
  {
   "cell_type": "code",
   "execution_count": null,
   "metadata": {},
   "outputs": [],
   "source": [
    "DT1 = RandomizedSearchCV(estimator = DT, param_distributions = paramsDT, n_iter = 10, \n",
    "                               cv = 3, verbose=3, random_state=0, n_jobs = -1)\n",
    "\n",
    "DT1.fit(X_train, Y_train)"
   ]
  },
  {
   "cell_type": "code",
   "execution_count": null,
   "metadata": {},
   "outputs": [],
   "source": [
    "best_DT = DT1.best_estimator_\n",
    "print(best_DT)\n"
   ]
  },
  {
   "cell_type": "code",
   "execution_count": null,
   "metadata": {},
   "outputs": [],
   "source": [
    "# train the model with its best paramaters\n",
    "best_DT.fit(X_train, Y_train)"
   ]
  },
  {
   "cell_type": "code",
   "execution_count": null,
   "metadata": {},
   "outputs": [],
   "source": [
    "dt_p1 = best_DT.predict(X_train)\n",
    "dt_p2 = best_DT.predict(X_test)\n",
    "print('DT result')\n",
    "print('train R^2: %.2f' % r2_score(Y_train, dt_p1))\n",
    "print('train MAE: %.2f' % mean_absolute_error(Y_train, dt_p1))\n",
    "print('test  R^2: %.2f' % r2_score(Y_test, dt_p2))\n",
    "print('test  MAE: %.2f' % mean_absolute_error(Y_test, dt_p2))"
   ]
  },
  {
   "cell_type": "code",
   "execution_count": null,
   "metadata": {},
   "outputs": [],
   "source": [
    "# plot prediction\n",
    "sns.set_theme()\n",
    "plt.scatter(Y_test,dt_p2)\n",
    "x=np.linspace(5,25,10)\n",
    "y=x\n",
    "plt.plot(x,y,color='red',linewidth=1.0,linestyle='--',label='line')\n",
    "#plt.legend([\"y = x\",\"predict\"])\n",
    " \n",
    "plt.title(\"Moisture of Grain Protein (MGP)\")\n",
    "plt.xlabel('Observed MGP (%)')\n",
    "plt.ylabel('Predicted MGP (%)')\n",
    "plt.savefig('MGP-graph.png', dpi=300, bbox_inches='tight', transparent=False)\n",
    "plt.show()\n"
   ]
  },
  {
   "cell_type": "markdown",
   "metadata": {},
   "source": [
    "# TUNING LGBM"
   ]
  },
  {
   "cell_type": "code",
   "execution_count": null,
   "metadata": {},
   "outputs": [],
   "source": [
    "LGB1 = RandomizedSearchCV(estimator = LGB, param_distributions = paramsLGB, n_iter = 10, \n",
    "                               cv = 3, verbose=3, random_state=0, n_jobs = -1)\n",
    "\n",
    "LGB1.fit(X_train, Y_train)"
   ]
  },
  {
   "cell_type": "code",
   "execution_count": null,
   "metadata": {},
   "outputs": [],
   "source": [
    "best_LGB = LGB1.best_estimator_\n",
    "print(best_LGB)\n"
   ]
  },
  {
   "cell_type": "code",
   "execution_count": null,
   "metadata": {},
   "outputs": [],
   "source": [
    "# train the model with its best paramaters\n",
    "best_LGB.fit(X_train, Y_train)"
   ]
  },
  {
   "cell_type": "code",
   "execution_count": null,
   "metadata": {},
   "outputs": [],
   "source": [
    "lgb_p1 = best_LGB.predict(X_train)\n",
    "lgb_p2 = best_LGB.predict(X_test)\n",
    "print('LGBM result')\n",
    "print('train R^2: %.2f' % r2_score(Y_train, lgb_p1))\n",
    "print('train MAE: %.2f' % mean_absolute_error(Y_train, lgb_p1))\n",
    "print('test  R^2: %.2f' % r2_score(Y_test, lgb_p2))\n",
    "print('test  MAE: %.2f' % mean_absolute_error(Y_test, lgb_p2))\n",
    "print('test  RMSE: %.2f' %  sqrt(mean_squared_error(Y_test, lgb_p2)))"
   ]
  },
  {
   "cell_type": "code",
   "execution_count": null,
   "metadata": {},
   "outputs": [],
   "source": [
    "plt.scatter(Y_test,lgb_p2)\n",
    "x=np.linspace(5,25,10)\n",
    "y=x\n",
    "plt.plot(x,y,color='red',linewidth=1.0,linestyle='--',label='line')\n",
    "#plt.legend([\"y = x\",\"predict\"])\n",
    " \n",
    "plt.title(\"Moisture of Grain Protein (MGP)\")\n",
    "plt.xlabel('Observed MGP (%)')\n",
    "plt.ylabel('Predicted MGP (%)')\n",
    "plt.savefig('MGP-graph.png', dpi=300, bbox_inches='tight', transparent=False)\n",
    "plt.show()\n"
   ]
  },
  {
   "cell_type": "code",
   "execution_count": null,
   "metadata": {},
   "outputs": [],
   "source": []
  },
  {
   "cell_type": "markdown",
   "metadata": {},
   "source": [
    "# TUNING RF"
   ]
  },
  {
   "cell_type": "code",
   "execution_count": null,
   "metadata": {},
   "outputs": [],
   "source": [
    "RF1 = RandomizedSearchCV(estimator = RF, param_distributions = paramsRF, n_iter = 20, \n",
    "                               cv = 3, verbose=3, random_state=0, n_jobs = -1)\n",
    "\n",
    "RF1.fit(X_train, Y_train)\n"
   ]
  },
  {
   "cell_type": "code",
   "execution_count": null,
   "metadata": {},
   "outputs": [],
   "source": [
    "end_time = datetime.now()\n",
    "print('Duration: {}'.format(end_time - start_time))"
   ]
  },
  {
   "cell_type": "code",
   "execution_count": null,
   "metadata": {},
   "outputs": [],
   "source": [
    "best_RF = RF1.best_estimator_\n",
    "print(best_RF)\n"
   ]
  },
  {
   "cell_type": "code",
   "execution_count": null,
   "metadata": {},
   "outputs": [],
   "source": [
    "# train the model with its best paramaters\n",
    "best_RF.fit(X_train, Y_train)"
   ]
  },
  {
   "cell_type": "code",
   "execution_count": null,
   "metadata": {},
   "outputs": [],
   "source": [
    "rf_p1 = best_RF.predict(X_train)\n",
    "rf_p2 = best_RF.predict(X_test)\n",
    "print('RF result')\n",
    "print('train R^2: %.2f' % r2_score(Y_train, rf_p1))\n",
    "print('train MAE: %.2f' % mean_absolute_error(Y_train, rf_p1))\n",
    "print('test  R^2: %.2f' % r2_score(Y_test, rf_p2))\n",
    "print('test  MAE: %.2f' % mean_absolute_error(Y_test, rf_p2))\n",
    "print('test  RMSE: %.2f' %  sqrt(mean_squared_error(Y_test, rf_p2)))"
   ]
  },
  {
   "cell_type": "code",
   "execution_count": null,
   "metadata": {},
   "outputs": [],
   "source": [
    "plt.scatter(Y_test,rf_p2)\n",
    "x=np.linspace(5,25,10)\n",
    "y=x\n",
    "plt.plot(x,y,color='red',linewidth=1.0,linestyle='--',label='line')\n",
    "#plt.legend([\"y = x\",\"predict\"])\n",
    " \n",
    "plt.title(\"Moisture of Grain Protein (MGP)\")\n",
    "plt.xlabel('Observed MGP (%)')\n",
    "plt.ylabel('Predicted MGP (%)')\n",
    "plt.savefig('MGP-graph.png', dpi=300, bbox_inches='tight', transparent=False)\n",
    "plt.show()\n"
   ]
  },
  {
   "cell_type": "code",
   "execution_count": null,
   "metadata": {},
   "outputs": [],
   "source": []
  },
  {
   "cell_type": "code",
   "execution_count": null,
   "metadata": {},
   "outputs": [],
   "source": []
  },
  {
   "cell_type": "code",
   "execution_count": null,
   "metadata": {},
   "outputs": [],
   "source": []
  }
 ],
 "metadata": {
  "kernelspec": {
   "display_name": "Python 3",
   "language": "python",
   "name": "python3"
  },
  "language_info": {
   "codemirror_mode": {
    "name": "ipython",
    "version": 3
   },
   "file_extension": ".py",
   "mimetype": "text/x-python",
   "name": "python",
   "nbconvert_exporter": "python",
   "pygments_lexer": "ipython3",
   "version": "3.7.7"
  }
 },
 "nbformat": 4,
 "nbformat_minor": 4
}
