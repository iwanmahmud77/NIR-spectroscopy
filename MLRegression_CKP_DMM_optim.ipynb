{
 "cells": [
  {
   "cell_type": "code",
   "execution_count": 1,
   "metadata": {},
   "outputs": [],
   "source": [
    "#Import scikit-learn dataset library\n",
    "from sklearn import datasets\n",
    "# Import train_test_split function\n",
    "from sklearn.model_selection import train_test_split\n",
    "#Import scikit-learn metrics module for accuracy calculation\n",
    "from sklearn import metrics\n",
    "from sklearn.metrics import plot_confusion_matrix, mean_absolute_error, mean_squared_error, r2_score\n",
    "import matplotlib.pyplot as plt \n",
    "import pandas as pd\n",
    "import numpy as np\n",
    "import tensorflow as tf\n",
    "import seaborn as sns\n",
    "from math import sqrt\n",
    "from sklearn.model_selection import RandomizedSearchCV\n",
    "import warnings\n",
    "warnings.filterwarnings(\"ignore\")\n",
    " \n",
    "from datetime import datetime\n",
    "start_time = datetime.now()"
   ]
  },
  {
   "cell_type": "code",
   "execution_count": 2,
   "metadata": {},
   "outputs": [
    {
     "name": "stdout",
     "output_type": "stream",
     "text": [
      "(11362, 103)\n",
      "(11362,)\n"
     ]
    }
   ],
   "source": [
    "df = pd.read_excel('F://UCSI_research//PG_Matters//Chan Kok Pin//post-viva//Dataset//Regression_data//Mango_drymatter//DM_mango.xlsx')   \n",
    "# df = pd.read_excel('F://UCSI_research//PG_Matters//Chan Kok Pin//post-viva//Dataset//Regression_data//Mango_drymatter//DM_mango_snv.xlsx')   \n",
    "\n",
    "X = df.iloc[: , 1:]\n",
    "Y = df.iloc[:, 0]\n",
    "\n",
    "\n",
    "# print(len(Y))\n",
    "# print(len(X))\n",
    "print(X.shape)\n",
    "print(Y.shape)"
   ]
  },
  {
   "cell_type": "code",
   "execution_count": 3,
   "metadata": {},
   "outputs": [
    {
     "data": {
      "text/html": [
       "<div>\n",
       "<style scoped>\n",
       "    .dataframe tbody tr th:only-of-type {\n",
       "        vertical-align: middle;\n",
       "    }\n",
       "\n",
       "    .dataframe tbody tr th {\n",
       "        vertical-align: top;\n",
       "    }\n",
       "\n",
       "    .dataframe thead th {\n",
       "        text-align: right;\n",
       "    }\n",
       "</style>\n",
       "<table border=\"1\" class=\"dataframe\">\n",
       "  <thead>\n",
       "    <tr style=\"text-align: right;\">\n",
       "      <th></th>\n",
       "      <th>DM</th>\n",
       "      <th>684</th>\n",
       "      <th>687</th>\n",
       "      <th>690</th>\n",
       "      <th>693</th>\n",
       "      <th>696</th>\n",
       "      <th>699</th>\n",
       "      <th>702</th>\n",
       "      <th>705</th>\n",
       "      <th>708</th>\n",
       "      <th>...</th>\n",
       "      <th>963</th>\n",
       "      <th>966</th>\n",
       "      <th>969</th>\n",
       "      <th>972</th>\n",
       "      <th>975</th>\n",
       "      <th>978</th>\n",
       "      <th>981</th>\n",
       "      <th>984</th>\n",
       "      <th>987</th>\n",
       "      <th>990</th>\n",
       "    </tr>\n",
       "  </thead>\n",
       "  <tbody>\n",
       "    <tr>\n",
       "      <th>0</th>\n",
       "      <td>16.792506</td>\n",
       "      <td>-0.187572</td>\n",
       "      <td>-0.271236</td>\n",
       "      <td>-0.351005</td>\n",
       "      <td>-0.418628</td>\n",
       "      <td>-0.471548</td>\n",
       "      <td>-0.510750</td>\n",
       "      <td>-0.538847</td>\n",
       "      <td>-0.558357</td>\n",
       "      <td>-0.572195</td>\n",
       "      <td>...</td>\n",
       "      <td>-0.291061</td>\n",
       "      <td>-0.283766</td>\n",
       "      <td>-0.277665</td>\n",
       "      <td>-0.276466</td>\n",
       "      <td>-0.275833</td>\n",
       "      <td>-0.277469</td>\n",
       "      <td>-0.279087</td>\n",
       "      <td>-0.281585</td>\n",
       "      <td>-0.286274</td>\n",
       "      <td>-0.291861</td>\n",
       "    </tr>\n",
       "    <tr>\n",
       "      <th>1</th>\n",
       "      <td>16.792506</td>\n",
       "      <td>-0.183253</td>\n",
       "      <td>-0.267107</td>\n",
       "      <td>-0.347271</td>\n",
       "      <td>-0.415050</td>\n",
       "      <td>-0.468100</td>\n",
       "      <td>-0.507443</td>\n",
       "      <td>-0.535537</td>\n",
       "      <td>-0.555035</td>\n",
       "      <td>-0.569050</td>\n",
       "      <td>...</td>\n",
       "      <td>-0.288114</td>\n",
       "      <td>-0.280321</td>\n",
       "      <td>-0.275603</td>\n",
       "      <td>-0.273691</td>\n",
       "      <td>-0.272281</td>\n",
       "      <td>-0.273021</td>\n",
       "      <td>-0.275661</td>\n",
       "      <td>-0.277798</td>\n",
       "      <td>-0.282546</td>\n",
       "      <td>-0.287625</td>\n",
       "    </tr>\n",
       "    <tr>\n",
       "      <th>2</th>\n",
       "      <td>16.070979</td>\n",
       "      <td>-0.240969</td>\n",
       "      <td>-0.313623</td>\n",
       "      <td>-0.381965</td>\n",
       "      <td>-0.439224</td>\n",
       "      <td>-0.483448</td>\n",
       "      <td>-0.515665</td>\n",
       "      <td>-0.538356</td>\n",
       "      <td>-0.553933</td>\n",
       "      <td>-0.564771</td>\n",
       "      <td>...</td>\n",
       "      <td>-0.285849</td>\n",
       "      <td>-0.278140</td>\n",
       "      <td>-0.273570</td>\n",
       "      <td>-0.270683</td>\n",
       "      <td>-0.270807</td>\n",
       "      <td>-0.272077</td>\n",
       "      <td>-0.273772</td>\n",
       "      <td>-0.277118</td>\n",
       "      <td>-0.280703</td>\n",
       "      <td>-0.286242</td>\n",
       "    </tr>\n",
       "    <tr>\n",
       "      <th>3</th>\n",
       "      <td>16.070979</td>\n",
       "      <td>-0.240610</td>\n",
       "      <td>-0.313087</td>\n",
       "      <td>-0.381506</td>\n",
       "      <td>-0.439003</td>\n",
       "      <td>-0.483402</td>\n",
       "      <td>-0.515663</td>\n",
       "      <td>-0.538322</td>\n",
       "      <td>-0.553813</td>\n",
       "      <td>-0.564752</td>\n",
       "      <td>...</td>\n",
       "      <td>-0.284648</td>\n",
       "      <td>-0.277382</td>\n",
       "      <td>-0.273996</td>\n",
       "      <td>-0.272173</td>\n",
       "      <td>-0.269741</td>\n",
       "      <td>-0.270569</td>\n",
       "      <td>-0.273172</td>\n",
       "      <td>-0.276150</td>\n",
       "      <td>-0.280397</td>\n",
       "      <td>-0.286027</td>\n",
       "    </tr>\n",
       "    <tr>\n",
       "      <th>4</th>\n",
       "      <td>16.394013</td>\n",
       "      <td>0.056370</td>\n",
       "      <td>-0.049269</td>\n",
       "      <td>-0.158413</td>\n",
       "      <td>-0.257995</td>\n",
       "      <td>-0.341550</td>\n",
       "      <td>-0.407727</td>\n",
       "      <td>-0.458308</td>\n",
       "      <td>-0.496121</td>\n",
       "      <td>-0.524892</td>\n",
       "      <td>...</td>\n",
       "      <td>-0.292278</td>\n",
       "      <td>-0.284616</td>\n",
       "      <td>-0.280153</td>\n",
       "      <td>-0.276646</td>\n",
       "      <td>-0.274851</td>\n",
       "      <td>-0.276203</td>\n",
       "      <td>-0.277353</td>\n",
       "      <td>-0.279749</td>\n",
       "      <td>-0.284363</td>\n",
       "      <td>-0.290519</td>\n",
       "    </tr>\n",
       "  </tbody>\n",
       "</table>\n",
       "<p>5 rows × 104 columns</p>\n",
       "</div>"
      ],
      "text/plain": [
       "          DM       684       687       690       693       696       699  \\\n",
       "0  16.792506 -0.187572 -0.271236 -0.351005 -0.418628 -0.471548 -0.510750   \n",
       "1  16.792506 -0.183253 -0.267107 -0.347271 -0.415050 -0.468100 -0.507443   \n",
       "2  16.070979 -0.240969 -0.313623 -0.381965 -0.439224 -0.483448 -0.515665   \n",
       "3  16.070979 -0.240610 -0.313087 -0.381506 -0.439003 -0.483402 -0.515663   \n",
       "4  16.394013  0.056370 -0.049269 -0.158413 -0.257995 -0.341550 -0.407727   \n",
       "\n",
       "        702       705       708  ...       963       966       969       972  \\\n",
       "0 -0.538847 -0.558357 -0.572195  ... -0.291061 -0.283766 -0.277665 -0.276466   \n",
       "1 -0.535537 -0.555035 -0.569050  ... -0.288114 -0.280321 -0.275603 -0.273691   \n",
       "2 -0.538356 -0.553933 -0.564771  ... -0.285849 -0.278140 -0.273570 -0.270683   \n",
       "3 -0.538322 -0.553813 -0.564752  ... -0.284648 -0.277382 -0.273996 -0.272173   \n",
       "4 -0.458308 -0.496121 -0.524892  ... -0.292278 -0.284616 -0.280153 -0.276646   \n",
       "\n",
       "        975       978       981       984       987       990  \n",
       "0 -0.275833 -0.277469 -0.279087 -0.281585 -0.286274 -0.291861  \n",
       "1 -0.272281 -0.273021 -0.275661 -0.277798 -0.282546 -0.287625  \n",
       "2 -0.270807 -0.272077 -0.273772 -0.277118 -0.280703 -0.286242  \n",
       "3 -0.269741 -0.270569 -0.273172 -0.276150 -0.280397 -0.286027  \n",
       "4 -0.274851 -0.276203 -0.277353 -0.279749 -0.284363 -0.290519  \n",
       "\n",
       "[5 rows x 104 columns]"
      ]
     },
     "execution_count": 3,
     "metadata": {},
     "output_type": "execute_result"
    }
   ],
   "source": [
    "df.head(5)"
   ]
  },
  {
   "cell_type": "code",
   "execution_count": 4,
   "metadata": {},
   "outputs": [
    {
     "data": {
      "text/plain": [
       "Text(0.5, 0, 'Dry matter content (%)')"
      ]
     },
     "execution_count": 4,
     "metadata": {},
     "output_type": "execute_result"
    },
    {
     "data": {
      "image/png": "[encoded data removed]",
      "text/plain": [
       "<Figure size 432x288 with 1 Axes>"
      ]
     },
     "metadata": {
      "needs_background": "light"
     },
     "output_type": "display_data"
    }
   ],
   "source": [
    "\n",
    "sns.boxplot(x=df[\"DM\"])\n",
    "plt.title('Dry Matter of Mango (DMM)', fontsize = 12)\n",
    "plt.xlabel('Dry matter content (%)')"
   ]
  },
  {
   "cell_type": "code",
   "execution_count": null,
   "metadata": {},
   "outputs": [],
   "source": []
  },
  {
   "cell_type": "code",
   "execution_count": 5,
   "metadata": {},
   "outputs": [
    {
     "data": {
      "image/png": "[encoded data removed]",
      "text/plain": [
       "<Figure size 432x288 with 1 Axes>"
      ]
     },
     "metadata": {},
     "output_type": "display_data"
    }
   ],
   "source": [
    " #add print spectrum...\n",
    "import seaborn as sns\n",
    "sns.set_theme()\n",
    "\n",
    "X1 = df.values[:, 1:].astype('float32')  \n",
    "y_toc = df.values[:,0]    \n",
    "wl = np.linspace(684,990, num=X1.shape[1], endpoint=True)   #wavelength range\n",
    "plt.plot(wl,X1.T)\n",
    "plt.title('Dry Matter of Mango (DMM)', fontsize = 12)\n",
    "plt.xlabel(r'Wavelength(nm)', fontsize=12)\n",
    "plt.ylabel('Absorbance(au)', fontsize=12)\n",
    "plt.savefig('mango DMM spectroscopy.png', dpi=300)\n",
    "plt.show()"
   ]
  },
  {
   "cell_type": "code",
   "execution_count": 6,
   "metadata": {},
   "outputs": [],
   "source": [
    "#train set,test set\n",
    "X_train, X_test, Y_train, Y_test = train_test_split(X, Y, test_size=0.25, random_state=0)  "
   ]
  },
  {
   "cell_type": "code",
   "execution_count": 7,
   "metadata": {},
   "outputs": [
    {
     "name": "stdout",
     "output_type": "stream",
     "text": [
      "(8521, 103)\n",
      "(8521,)\n",
      "(2841, 103)\n",
      "(2841,)\n"
     ]
    }
   ],
   "source": [
    "print(X_train.shape)\n",
    "print(Y_train.shape)\n",
    "print(X_test.shape)\n",
    "print(Y_test.shape)"
   ]
  },
  {
   "cell_type": "code",
   "execution_count": 8,
   "metadata": {},
   "outputs": [],
   "source": [
    "# Fitting Decision Tree Regression to the dataset\n",
    "from sklearn.tree import DecisionTreeRegressor\n",
    "from sklearn.ensemble import RandomForestRegressor\n",
    "import lightgbm as lgb\n",
    "\n",
    "DT = DecisionTreeRegressor()\n",
    "RF = RandomForestRegressor()\n",
    "LGB=lgb.LGBMRegressor(verbose=0)"
   ]
  },
  {
   "cell_type": "code",
   "execution_count": 9,
   "metadata": {},
   "outputs": [],
   "source": [
    "# #tuning   hyperparameters\n",
    "paramsDT={\"splitter\":[\"best\",\"random\"],\n",
    "            \"max_depth\" : [1,3,5,7,9,11,12],\n",
    "           \"min_samples_leaf\":[1,2,3,4,5,6,7,8,9,10],\n",
    "           \"min_weight_fraction_leaf\":[0.1,0.2,0.3,0.4,0.5,0.6,0.7,0.8,0.9],\n",
    "           \"max_features\":[\"auto\",\"log2\",\"sqrt\",None],\n",
    "           \"max_leaf_nodes\":[None,10,20,30,40,50,60,70,80,90] }\n",
    "\n",
    "# Number of trees in random forest\n",
    "n_estimators = [int(x) for x in np.linspace(start = 100, stop = 800, num = 8)]\n",
    "# Number of features to consider at every split\n",
    "max_features = ['auto', 'sqrt']\n",
    "# Maximum number of levels in tree\n",
    "max_depth = [int(x) for x in np.linspace(10, 110, num = 5)]\n",
    "max_depth.append(None)\n",
    "# Minimum number of samples required to split a node\n",
    "min_samples_split = [2, 5, 10]\n",
    "# Minimum number of samples required at each leaf node\n",
    "min_samples_leaf = [1, 2, 4]\n",
    "# Method of selecting samples for training each tree\n",
    "bootstrap = [True, False]# Create the random grid\n",
    "paramsRF = {'n_estimators': n_estimators,\n",
    "               'max_features': max_features,\n",
    "               'max_depth': max_depth,\n",
    "               'min_samples_split': min_samples_split,\n",
    "               'min_samples_leaf': min_samples_leaf,\n",
    "               'bootstrap': bootstrap}\n",
    "\n",
    "\n",
    "paramsLGB={'n_estimators':[100,200,300,400,500], 'learning_rate':[0.25,0.5,0.75, 1],'reg_alpha':[0,0.01,0.05,0.1]}\n"
   ]
  },
  {
   "cell_type": "markdown",
   "metadata": {},
   "source": [
    "# TUNING DT"
   ]
  },
  {
   "cell_type": "code",
   "execution_count": 10,
   "metadata": {},
   "outputs": [
    {
     "name": "stdout",
     "output_type": "stream",
     "text": [
      "Fitting 3 folds for each of 10 candidates, totalling 30 fits\n"
     ]
    },
    {
     "data": {
      "text/plain": [
       "RandomizedSearchCV(cv=3, estimator=DecisionTreeRegressor(), n_jobs=-1,\n",
       "                   param_distributions={'max_depth': [1, 3, 5, 7, 9, 11, 12],\n",
       "                                        'max_features': ['auto', 'log2', 'sqrt',\n",
       "                                                         None],\n",
       "                                        'max_leaf_nodes': [None, 10, 20, 30, 40,\n",
       "                                                           50, 60, 70, 80, 90],\n",
       "                                        'min_samples_leaf': [1, 2, 3, 4, 5, 6,\n",
       "                                                             7, 8, 9, 10],\n",
       "                                        'min_weight_fraction_leaf': [0.1, 0.2,\n",
       "                                                                     0.3, 0.4,\n",
       "                                                                     0.5, 0.6,\n",
       "                                                                     0.7, 0.8,\n",
       "                                                                     0.9],\n",
       "                                        'splitter': ['best', 'random']},\n",
       "                   random_state=0, verbose=3)"
      ]
     },
     "execution_count": 10,
     "metadata": {},
     "output_type": "execute_result"
    }
   ],
   "source": [
    "DT1 = RandomizedSearchCV(estimator = DT, param_distributions = paramsDT, n_iter = 10, \n",
    "                               cv = 3, verbose=3, random_state=0, n_jobs = -1)\n",
    "\n",
    "DT1.fit(X_train, Y_train)"
   ]
  },
  {
   "cell_type": "code",
   "execution_count": 11,
   "metadata": {},
   "outputs": [
    {
     "name": "stdout",
     "output_type": "stream",
     "text": [
      "DecisionTreeRegressor(max_depth=9, max_features='auto', max_leaf_nodes=80,\n",
      "                      min_samples_leaf=10, min_weight_fraction_leaf=0.1,\n",
      "                      splitter='random')\n"
     ]
    }
   ],
   "source": [
    "best_DT = DT1.best_estimator_\n",
    "print(best_DT)\n"
   ]
  },
  {
   "cell_type": "code",
   "execution_count": 12,
   "metadata": {},
   "outputs": [
    {
     "data": {
      "text/plain": [
       "DecisionTreeRegressor(max_depth=9, max_features='auto', max_leaf_nodes=80,\n",
       "                      min_samples_leaf=10, min_weight_fraction_leaf=0.1,\n",
       "                      splitter='random')"
      ]
     },
     "execution_count": 12,
     "metadata": {},
     "output_type": "execute_result"
    }
   ],
   "source": [
    "# train the model with its best paramaters\n",
    "best_DT.fit(X_train, Y_train)"
   ]
  },
  {
   "cell_type": "code",
   "execution_count": 13,
   "metadata": {},
   "outputs": [
    {
     "name": "stdout",
     "output_type": "stream",
     "text": [
      "DT result\n",
      "train R^2: 0.18\n",
      "train MAE: 1.76\n",
      "test  R^2: 0.16\n",
      "test  MAE: 1.82\n"
     ]
    }
   ],
   "source": [
    "dt_p1 = best_DT.predict(X_train)\n",
    "dt_p2 = best_DT.predict(X_test)\n",
    "print('DT result')\n",
    "print('train R^2: %.2f' % r2_score(Y_train, dt_p1))\n",
    "print('train MAE: %.2f' % mean_absolute_error(Y_train, dt_p1))\n",
    "print('test  R^2: %.2f' % r2_score(Y_test, dt_p2))\n",
    "print('test  MAE: %.2f' % mean_absolute_error(Y_test, dt_p2))"
   ]
  },
  {
   "cell_type": "code",
   "execution_count": 14,
   "metadata": {},
   "outputs": [
    {
     "data": {
      "image/png": "[encoded data removed]",
      "text/plain": [
       "<Figure size 432x288 with 1 Axes>"
      ]
     },
     "metadata": {},
     "output_type": "display_data"
    }
   ],
   "source": [
    "# plot prediction\n",
    "sns.set_theme()\n",
    "plt.scatter(Y_test,dt_p2)\n",
    "x=np.linspace(5,20,10)\n",
    "y=x\n",
    "plt.plot(x,y,color='red',linewidth=1.0,linestyle='--',label='line')\n",
    "#plt.legend([\"y = x\",\"predict\"])\n",
    " \n",
    "plt.title(\"Brix value in Mango (BM)\")\n",
    "plt.xlabel('Observed BM(%)')\n",
    "plt.ylabel('Predicted BM(%)')\n",
    "plt.savefig('brix-mango-graph.png', dpi=300, bbox_inches='tight', transparent=False)\n",
    "plt.show()"
   ]
  },
  {
   "cell_type": "markdown",
   "metadata": {},
   "source": [
    "# TUNING LGBM"
   ]
  },
  {
   "cell_type": "code",
   "execution_count": 15,
   "metadata": {},
   "outputs": [
    {
     "name": "stdout",
     "output_type": "stream",
     "text": [
      "Fitting 3 folds for each of 10 candidates, totalling 30 fits\n",
      "[LightGBM] [Warning] Auto-choosing col-wise multi-threading, the overhead of testing was 0.024975 seconds.\n",
      "You can set `force_col_wise=true` to remove the overhead.\n"
     ]
    },
    {
     "data": {
      "text/plain": [
       "RandomizedSearchCV(cv=3, estimator=LGBMRegressor(verbose=0), n_jobs=-1,\n",
       "                   param_distributions={'learning_rate': [0.25, 0.5, 0.75, 1],\n",
       "                                        'n_estimators': [100, 200, 300, 400,\n",
       "                                                         500],\n",
       "                                        'reg_alpha': [0, 0.01, 0.05, 0.1]},\n",
       "                   random_state=0, verbose=3)"
      ]
     },
     "execution_count": 15,
     "metadata": {},
     "output_type": "execute_result"
    }
   ],
   "source": [
    "LGB1 = RandomizedSearchCV(estimator = LGB, param_distributions = paramsLGB, n_iter = 10, \n",
    "                               cv = 3, verbose=3, random_state=0, n_jobs = -1)\n",
    "\n",
    "LGB1.fit(X_train, Y_train)"
   ]
  },
  {
   "cell_type": "code",
   "execution_count": 16,
   "metadata": {},
   "outputs": [
    {
     "name": "stdout",
     "output_type": "stream",
     "text": [
      "LGBMRegressor(learning_rate=0.5, n_estimators=300, reg_alpha=0.05, verbose=0)\n"
     ]
    }
   ],
   "source": [
    "best_LGB = LGB1.best_estimator_\n",
    "print(best_LGB)\n"
   ]
  },
  {
   "cell_type": "code",
   "execution_count": 17,
   "metadata": {},
   "outputs": [
    {
     "name": "stdout",
     "output_type": "stream",
     "text": [
      "[LightGBM] [Warning] Auto-choosing col-wise multi-threading, the overhead of testing was 0.025398 seconds.\n",
      "You can set `force_col_wise=true` to remove the overhead.\n"
     ]
    },
    {
     "data": {
      "text/plain": [
       "LGBMRegressor(learning_rate=0.5, n_estimators=300, reg_alpha=0.05, verbose=0)"
      ]
     },
     "execution_count": 17,
     "metadata": {},
     "output_type": "execute_result"
    }
   ],
   "source": [
    "# train the model with its best paramaters\n",
    "best_LGB.fit(X_train, Y_train)"
   ]
  },
  {
   "cell_type": "code",
   "execution_count": 18,
   "metadata": {},
   "outputs": [
    {
     "name": "stdout",
     "output_type": "stream",
     "text": [
      "LGBM result\n",
      "train R^2: 1.00\n",
      "train MAE: 0.12\n",
      "test  R^2: 0.75\n",
      "test  MAE: 0.90\n",
      "test  RMSE: 1.23\n"
     ]
    }
   ],
   "source": [
    "lgb_p1 = best_LGB.predict(X_train)\n",
    "lgb_p2 = best_LGB.predict(X_test)\n",
    "print('LGBM result')\n",
    "print('train R^2: %.2f' % r2_score(Y_train, lgb_p1))\n",
    "print('train MAE: %.2f' % mean_absolute_error(Y_train, lgb_p1))\n",
    "print('test  R^2: %.2f' % r2_score(Y_test, lgb_p2))\n",
    "print('test  MAE: %.2f' % mean_absolute_error(Y_test, lgb_p2))\n",
    "print('test  RMSE: %.2f' %  sqrt(mean_squared_error(Y_test, lgb_p2)))"
   ]
  },
  {
   "cell_type": "code",
   "execution_count": 19,
   "metadata": {},
   "outputs": [
    {
     "data": {
      "image/png": "[encoded data removed]",
      "text/plain": [
       "<Figure size 432x288 with 1 Axes>"
      ]
     },
     "metadata": {},
     "output_type": "display_data"
    }
   ],
   "source": [
    "plt.scatter(Y_test,lgb_p2)\n",
    "x=np.linspace(9,25,10)\n",
    "y=x\n",
    "plt.plot(x,y,color='red',linewidth=1.0,linestyle='--',label='line')\n",
    "#plt.legend([\"y = x\",\"predict\"])\n",
    " \n",
    "plt.title(\"Dry Matter in Mango (BM)\")\n",
    "plt.xlabel('Observed BM(%)')\n",
    "plt.ylabel('Predicted BM(%)')\n",
    "plt.savefig('brix-mango-graph.png', dpi=300, bbox_inches='tight', transparent=False)\n",
    "plt.show()"
   ]
  },
  {
   "cell_type": "code",
   "execution_count": null,
   "metadata": {},
   "outputs": [],
   "source": []
  },
  {
   "cell_type": "markdown",
   "metadata": {},
   "source": [
    "# TUNING RF"
   ]
  },
  {
   "cell_type": "code",
   "execution_count": null,
   "metadata": {},
   "outputs": [
    {
     "name": "stdout",
     "output_type": "stream",
     "text": [
      "Fitting 3 folds for each of 10 candidates, totalling 30 fits\n"
     ]
    }
   ],
   "source": [
    "RF1 = RandomizedSearchCV(estimator = RF, param_distributions = paramsRF, n_iter = 10, \n",
    "                               cv = 3, verbose=3, random_state=0, n_jobs = -1)\n",
    "\n",
    "RF1.fit(X_train, Y_train)\n"
   ]
  },
  {
   "cell_type": "code",
   "execution_count": null,
   "metadata": {},
   "outputs": [],
   "source": [
    "best_RF = RF1.best_estimator_\n",
    "print(best_RF)\n"
   ]
  },
  {
   "cell_type": "code",
   "execution_count": null,
   "metadata": {},
   "outputs": [],
   "source": [
    "# train the model with its best paramaters\n",
    "best_RF.fit(X_train, Y_train)"
   ]
  },
  {
   "cell_type": "code",
   "execution_count": null,
   "metadata": {},
   "outputs": [],
   "source": [
    "rf_p1 = best_RF.predict(X_train)\n",
    "rf_p2 = best_RF.predict(X_test)\n",
    "print('RF result')\n",
    "print('train R^2: %.2f' % r2_score(Y_train, rf_p1))\n",
    "print('train MAE: %.2f' % mean_absolute_error(Y_train, rf_p1))\n",
    "print('test  R^2: %.2f' % r2_score(Y_test, rf_p2))\n",
    "print('test  MAE: %.2f' % mean_absolute_error(Y_test, rf_p2))\n",
    "print('test  RMSE: %.2f' %  sqrt(mean_squared_error(Y_test, rf_p2)))"
   ]
  },
  {
   "cell_type": "code",
   "execution_count": null,
   "metadata": {},
   "outputs": [],
   "source": [
    "plt.scatter(Y_test,rf_p2)\n",
    "x=np.linspace(9,25,10)\n",
    "y=x\n",
    "plt.plot(x,y,color='red',linewidth=1.0,linestyle='--',label='line')\n",
    "#plt.legend([\"y = x\",\"predict\"])\n",
    " \n",
    "plt.title(\"Dry Matter  in Mango (DMM)\")\n",
    "plt.xlabel('Observed DM(%)')\n",
    "plt.ylabel('Predicted MM(%)')\n",
    "plt.savefig('brix-mango-graph-RF.png', dpi=300, bbox_inches='tight', transparent=False)\n",
    "plt.show()"
   ]
  },
  {
   "cell_type": "code",
   "execution_count": null,
   "metadata": {},
   "outputs": [],
   "source": [
    "end_time = datetime.now()\n",
    "print('Duration: {}'.format(end_time - start_time))"
   ]
  },
  {
   "cell_type": "code",
   "execution_count": null,
   "metadata": {},
   "outputs": [],
   "source": [
    "best_RF.save(\"Model_RF1_DMM.h5\") #using h5 extension\n",
    "print(\"model saved!!!\")"
   ]
  },
  {
   "cell_type": "code",
   "execution_count": null,
   "metadata": {},
   "outputs": [],
   "source": [
    "best_RF1 "
   ]
  },
  {
   "cell_type": "code",
   "execution_count": null,
   "metadata": {},
   "outputs": [],
   "source": []
  }
 ],
 "metadata": {
  "kernelspec": {
   "display_name": "Python 3",
   "language": "python",
   "name": "python3"
  },
  "language_info": {
   "codemirror_mode": {
    "name": "ipython",
    "version": 3
   },
   "file_extension": ".py",
   "mimetype": "text/x-python",
   "name": "python",
   "nbconvert_exporter": "python",
   "pygments_lexer": "ipython3",
   "version": "3.7.7"
  }
 },
 "nbformat": 4,
 "nbformat_minor": 4
}
